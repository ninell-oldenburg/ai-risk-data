{
 "cells": [
  {
   "cell_type": "code",
   "execution_count": 10,
   "id": "f333218e",
   "metadata": {},
   "outputs": [],
   "source": [
    "import requests\n",
    "import json\n",
    "import pandas as pd\n",
    "from datetime import datetime, timedelta\n",
    "import time"
   ]
  },
  {
   "cell_type": "code",
   "execution_count": 16,
   "id": "7c8109c0",
   "metadata": {},
   "outputs": [],
   "source": [
    "url = \"https://www.lesswrong.com/graphql\"\n",
    "\n",
    "# GraphQL query template\n",
    "query = \"\"\"\n",
    "query ($after: Date, $before: Date, $limit: Int) {\n",
    "  posts(input: {\n",
    "    terms: {\n",
    "      view: \"new\",\n",
    "      limit: $limit,\n",
    "      meta: false,\n",
    "      after: $after,\n",
    "      before: $before\n",
    "    }\n",
    "  }) {\n",
    "    results {\n",
    "      _id\n",
    "      title\n",
    "      slug\n",
    "      pageUrl\n",
    "      postedAt\n",
    "      baseScore\n",
    "      voteCount\n",
    "      commentCount\n",
    "      meta\n",
    "      question\n",
    "      url\n",
    "      user {\n",
    "        username\n",
    "        slug\n",
    "        displayName\n",
    "      }\n",
    "    }\n",
    "  }\n",
    "}\n",
    "\"\"\"\n",
    "\n",
    "headers = {\n",
    "    \"Content-Type\": \"application/json\",\n",
    "    \"User-Agent\": \"Mozilla/5.0 (Windows NT 10.0; Win64; x64)\",\n",
    "    \"Referer\": \"https://www.lesswrong.com/\",\n",
    "    \"Origin\": \"https://www.lesswrong.com\"\n",
    "}"
   ]
  },
  {
   "cell_type": "code",
   "execution_count": 17,
   "id": "22046ce1",
   "metadata": {},
   "outputs": [
    {
     "name": "stdout",
     "output_type": "stream",
     "text": [
      "✅ Saved 10 posts to lw_json/2016/2016-01.json\n",
      "✅ Saved 10 posts to lw_json/2016/2016-02.json\n",
      "✅ Saved 10 posts to lw_json/2016/2016-03.json\n",
      "✅ Saved 10 posts to lw_json/2016/2016-04.json\n",
      "✅ Saved 10 posts to lw_json/2016/2016-05.json\n",
      "✅ Saved 10 posts to lw_json/2016/2016-06.json\n",
      "✅ Saved 10 posts to lw_json/2016/2016-07.json\n",
      "✅ Saved 10 posts to lw_json/2016/2016-08.json\n",
      "✅ Saved 10 posts to lw_json/2016/2016-09.json\n",
      "✅ Saved 10 posts to lw_json/2016/2016-10.json\n",
      "✅ Saved 10 posts to lw_json/2016/2016-11.json\n",
      "✅ Saved 10 posts to lw_json/2016/2016-12.json\n",
      "✅ Saved 10 posts to lw_json/2017/2017-01.json\n",
      "✅ Saved 10 posts to lw_json/2017/2017-02.json\n",
      "✅ Saved 10 posts to lw_json/2017/2017-03.json\n",
      "✅ Saved 10 posts to lw_json/2017/2017-04.json\n",
      "✅ Saved 10 posts to lw_json/2017/2017-05.json\n"
     ]
    },
    {
     "ename": "KeyboardInterrupt",
     "evalue": "",
     "output_type": "error",
     "traceback": [
      "\u001b[0;31m---------------------------------------------------------------------------\u001b[0m",
      "\u001b[0;31mKeyboardInterrupt\u001b[0m                         Traceback (most recent call last)",
      "Cell \u001b[0;32mIn[17], line 27\u001b[0m\n\u001b[1;32m     24\u001b[0m \u001b[38;5;28mprint\u001b[39m(\u001b[38;5;124mf\u001b[39m\u001b[38;5;124m\"\u001b[39m\u001b[38;5;124m✅ Saved \u001b[39m\u001b[38;5;132;01m{\u001b[39;00m\u001b[38;5;28mlen\u001b[39m(results)\u001b[38;5;132;01m}\u001b[39;00m\u001b[38;5;124m posts to \u001b[39m\u001b[38;5;132;01m{\u001b[39;00mfilepath\u001b[38;5;132;01m}\u001b[39;00m\u001b[38;5;124m\"\u001b[39m)\n\u001b[1;32m     26\u001b[0m     \u001b[38;5;66;03m# optional: small delay to avoid rate limiting\u001b[39;00m\n\u001b[0;32m---> 27\u001b[0m \u001b[43mtime\u001b[49m\u001b[38;5;241;43m.\u001b[39;49m\u001b[43msleep\u001b[49m\u001b[43m(\u001b[49m\u001b[38;5;241;43m1\u001b[39;49m\u001b[43m)\u001b[49m\n\u001b[1;32m     29\u001b[0m \u001b[38;5;66;03m# Move to next month\u001b[39;00m\n\u001b[1;32m     30\u001b[0m start_date \u001b[38;5;241m=\u001b[39m next_month\n",
      "\u001b[0;31mKeyboardInterrupt\u001b[0m: "
     ]
    }
   ],
   "source": [
    "# Start from Jan 2016\n",
    "start_date = datetime(2016, 1, 1)\n",
    "end_date = datetime.today()\n",
    "\n",
    "all_results = []\n",
    "\n",
    "while start_date < end_date:\n",
    "    # calculate month range\n",
    "    next_month = (start_date.replace(day=28) + timedelta(days=4)).replace(day=1)\n",
    "    after = start_date.isoformat() + \"Z\"\n",
    "    before = next_month.isoformat() + \"Z\"\n",
    "    \n",
    "    variables = {\"after\": after, \"before\": before, \"limit\": 10}  # 5000 per request\n",
    "    response = requests.post(url, json={\"query\": query, \"variables\": variables}, headers=headers)\n",
    "    data = response.json()\n",
    "    results = data.get(\"data\", {}).get(\"posts\", {}).get(\"results\", [])\n",
    "    \n",
    "    # Save JSON for this month\n",
    "    filename = f\"{start_date.year}-{start_date.month:02}.json\"\n",
    "    filepath = f\"lw_json/{start_date.year}/\" + filename\n",
    "    with open(filepath, \"w\", encoding=\"utf-8\") as f:\n",
    "        json.dump(results, f, indent=2, ensure_ascii=False)\n",
    "\n",
    "    print(f\"✅ Saved {len(results)} posts to {filepath}\")\n",
    "\n",
    "        # optional: small delay to avoid rate limiting\n",
    "    time.sleep(1)\n",
    "\n",
    "    # Move to next month\n",
    "    start_date = next_month"
   ]
  },
  {
   "cell_type": "code",
   "execution_count": null,
   "id": "6e8af897",
   "metadata": {},
   "outputs": [],
   "source": []
  }
 ],
 "metadata": {
  "kernelspec": {
   "display_name": "base",
   "language": "python",
   "name": "python3"
  },
  "language_info": {
   "codemirror_mode": {
    "name": "ipython",
    "version": 3
   },
   "file_extension": ".py",
   "mimetype": "text/x-python",
   "name": "python",
   "nbconvert_exporter": "python",
   "pygments_lexer": "ipython3",
   "version": "3.10.8"
  }
 },
 "nbformat": 4,
 "nbformat_minor": 5
}
