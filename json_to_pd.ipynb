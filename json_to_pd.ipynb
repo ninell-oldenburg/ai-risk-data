{
 "cells": [
  {
   "cell_type": "code",
   "execution_count": 1,
   "id": "7f64b46e",
   "metadata": {},
   "outputs": [],
   "source": [
    "import json\n",
    "import pandas as pd"
   ]
  },
  {
   "cell_type": "code",
   "execution_count": null,
   "id": "99702b03",
   "metadata": {},
   "outputs": [],
   "source": [
    "# open and load the JSON file\n",
    "with open(\"lw_json/year/{}.json\", \"r\", encoding=\"utf-8\") as f:\n",
    "    json_data = json.load(f)"
   ]
  },
  {
   "cell_type": "code",
   "execution_count": 3,
   "id": "1e062666",
   "metadata": {},
   "outputs": [
    {
     "name": "stdout",
     "output_type": "stream",
     "text": [
      "                 _id                                              title  \\\n",
      "0  rAHdt2JPtLQo5bwqq                     Qualified rights for AI agents   \n",
      "1  JqGmbpXt5y94oE5wz  I am trying to write the history of TESCREAL c...   \n",
      "2  89qhQH8eHsrZxveHp                  Claude Plays... Whatever it Wants   \n",
      "3  mrededPvA5EHHkQ9N                               Not stepping on bugs   \n",
      "4  gcyurCxxPguPPdGKw                 Defensiveness does not equal guilt   \n",
      "\n",
      "                                                slug  \\\n",
      "0                     qualified-rights-for-ai-agents   \n",
      "1  i-am-trying-to-write-the-history-of-tescreal-c...   \n",
      "2                     claude-plays-whatever-it-wants   \n",
      "3                               not-stepping-on-bugs   \n",
      "4                 defensiveness-does-not-equal-guilt   \n",
      "\n",
      "                                             pageUrl  \\\n",
      "0  https://www.lesswrong.com/posts/rAHdt2JPtLQo5b...   \n",
      "1  https://www.lesswrong.com/posts/JqGmbpXt5y94oE...   \n",
      "2  https://www.lesswrong.com/posts/89qhQH8eHsrZxv...   \n",
      "3  https://www.lesswrong.com/posts/mrededPvA5EHHk...   \n",
      "4  https://www.lesswrong.com/posts/gcyurCxxPguPPd...   \n",
      "\n",
      "                   postedAt  baseScore  voteCount  commentCount   meta  \\\n",
      "0  2025-08-29T12:42:00.756Z          2          1             0  False   \n",
      "1  2025-08-29T11:37:29.611Z          3          1             0  False   \n",
      "2  2025-08-29T10:57:23.453Z          6          2             1  False   \n",
      "3  2025-08-29T10:08:43.525Z          4          3             0  False   \n",
      "4  2025-08-29T06:14:15.818Z         15         11             2  False   \n",
      "\n",
      "   question                                            url      user.username  \\\n",
      "0     False  https://robertandgaurav.substack.com/p/rights   aryangauravyadav   \n",
      "1     False                                                 ihor-kendiukhov-1   \n",
      "2     False                                                            adam-b   \n",
      "3     False                        https://y1d2.com/p/bugs   aryangauravyadav   \n",
      "4     False                                           None         Kaj_Sotala   \n",
      "\n",
      "           user.slug user.displayName  user  \n",
      "0         gauraventh       Gauraventh   NaN  \n",
      "1  ihor-kendiukhov-1  Ihor Kendiukhov   NaN  \n",
      "2             adam-b           Adam B   NaN  \n",
      "3         gauraventh       Gauraventh   NaN  \n",
      "4         kaj_sotala       Kaj_Sotala   NaN  \n"
     ]
    }
   ],
   "source": [
    "# Extract results list\n",
    "results = json_data[\"data\"][\"posts\"][\"results\"]\n",
    "\n",
    "# Flatten into DataFrame\n",
    "df = pd.json_normalize(results)\n",
    "\n",
    "print(df.head())"
   ]
  },
  {
   "cell_type": "code",
   "execution_count": null,
   "id": "08fdaccf",
   "metadata": {},
   "outputs": [],
   "source": []
  }
 ],
 "metadata": {
  "kernelspec": {
   "display_name": "base",
   "language": "python",
   "name": "python3"
  },
  "language_info": {
   "codemirror_mode": {
    "name": "ipython",
    "version": 3
   },
   "file_extension": ".py",
   "mimetype": "text/x-python",
   "name": "python",
   "nbconvert_exporter": "python",
   "pygments_lexer": "ipython3",
   "version": "3.10.8"
  }
 },
 "nbformat": 4,
 "nbformat_minor": 5
}
